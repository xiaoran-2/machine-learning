{
 "cells": [
  {
   "cell_type": "markdown",
   "metadata": {},
   "source": [
    "朴素贝叶斯的分类实现"
   ]
  },
  {
   "cell_type": "code",
   "execution_count": 2,
   "metadata": {
    "collapsed": true
   },
   "outputs": [],
   "source": [
    "import numpy as np\n",
    "import scipy as sp"
   ]
  },
  {
   "cell_type": "code",
   "execution_count": 5,
   "metadata": {
    "collapsed": false
   },
   "outputs": [],
   "source": [
    "class NaiveBayes():\n",
    "    classDict = {} #每一类的个数\n",
    "    featureDict = {} #在每一类中的所有特征的次数，使用拉普拉斯平滑，<keys,values> == <classID, featureVector>\n",
    "    \n",
    "    proClassDict = {} #计算概率时，使用拉普拉斯平滑\n",
    "    profeatureDict = {} \n",
    "    \n",
    "    def __init__(self):\n",
    "        pass\n",
    "     \n",
    "    def fit(self, x, y):\n",
    "        \"\"\"\n",
    "        计算先验概率和条件概率\n",
    "        \"\"\"\n",
    "        for i in range(len(y)):\n",
    "            if y[i] not in self.classDict.keys():\n",
    "                self.classDict[y[i]] = 0;\n",
    "            self.classDict[y[i]] += 1;\n",
    "        \n",
    "        for index in self.classDict.keys(): #循环多，效率低\n",
    "            counti = {} #每一个位置i设置一个字典，记录该位置上的所有可能的情况出现的次数\n",
    "            for i in range(len(y)):\n",
    "                if y[i] == index:\n",
    "                    for j in range(len(x[i])):\n",
    "                        count = {}# 初始化所有的特征次数\n",
    "                        if x[i][j] not in count.keys():\n",
    "                            count[x[i][j]] = 0\n",
    "                            \n",
    "                        count[x[i][j]] += 1 #记录每个特值的个数\n",
    "                \n",
    "            \n",
    "            self.featureDict[index] = count\n",
    "            \n",
    "            procount = {}\n",
    "            for feature in count.keys():\n",
    "                procount[feature] = (count[feature] + 1) / (classDict[index] + len(x[i]))\n",
    "                \n",
    "            \n",
    "            #利用极大似然计算概率\n",
    "            self.proClassDict[index] = (classDict[index] + 1) / len(y)\n",
    "            self.profeatureDict[index] = procount\n",
    "            \n",
    "    \n",
    "    def __calProbility(self,x):\n",
    "        \n",
    "        \n",
    "    \n",
    "    \n",
    "    def predict(self, x):\n",
    "        xx = []\n",
    "        if type(x[0]) is not list:\n",
    "            xx.append(x)\n",
    "            x = np.array(xx)\n",
    "        else:\n",
    "            x = np.array(x)\n",
    "        ll = x.shape[0]\n",
    "        result = []\n",
    "        \n",
    "        for j in range(ll):\n",
    "            \n",
    "\n",
    "    \n",
    "    \n",
    "    \n"
   ]
  },
  {
   "cell_type": "code",
   "execution_count": null,
   "metadata": {
    "collapsed": true
   },
   "outputs": [],
   "source": []
  }
 ],
 "metadata": {
  "anaconda-cloud": {},
  "kernelspec": {
   "display_name": "Python [conda root]",
   "language": "python",
   "name": "conda-root-py"
  },
  "language_info": {
   "codemirror_mode": {
    "name": "ipython",
    "version": 3
   },
   "file_extension": ".py",
   "mimetype": "text/x-python",
   "name": "python",
   "nbconvert_exporter": "python",
   "pygments_lexer": "ipython3",
   "version": "3.5.2"
  }
 },
 "nbformat": 4,
 "nbformat_minor": 1
}
