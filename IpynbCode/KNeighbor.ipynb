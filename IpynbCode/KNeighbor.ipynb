{
 "cells": [
  {
   "cell_type": "markdown",
   "metadata": {},
   "source": [
    "K近邻算法，（物以类聚，人以群分），对于给定的实例x，选出最相近的K的实例，找出类别最多的类C作为x的类别y"
   ]
  },
  {
   "cell_type": "code",
   "execution_count": 82,
   "metadata": {
    "collapsed": true
   },
   "outputs": [],
   "source": [
    "import numpy as np\n",
    "import scipy as sp\n",
    "\n",
    "import operator"
   ]
  },
  {
   "cell_type": "code",
   "execution_count": 174,
   "metadata": {
    "collapsed": false
   },
   "outputs": [],
   "source": [
    "class KNeighbor():\n",
    "    \n",
    "    trainSet = np.nan\n",
    "    labels = np.nan\n",
    "    \n",
    "    def __init__(self):\n",
    "        pass\n",
    "    \n",
    "    def fit(self, dataSet, labels):\n",
    "        self.trainSet = np.array(dataSet)\n",
    "        self.labels = np.array(labels)\n",
    "        \n",
    "    def L1(self,x, y):\n",
    "        '''\n",
    "        L1范式，哈曼顿距离\n",
    "        '''\n",
    "        x = np.array(x)\n",
    "        y = np.array(y)\n",
    "        \n",
    "        return np.sum(np.abs(x-y))\n",
    "        \n",
    "    \n",
    "    def L2(x, y):\n",
    "        '''\n",
    "        欧几里德距离，L2范式\n",
    "        '''\n",
    "        x = np.array(x)\n",
    "        y = np.array(y)\n",
    "        \n",
    "        return np.sum((x-y)**2)**0.5\n",
    "        \n",
    "    def Lmax(self,x, y):\n",
    "        '''\n",
    "        Lmax,L无穷范式\n",
    "        '''\n",
    "        x = np.array(x)\n",
    "        y = np.array(y)\n",
    "        \n",
    "        return np.max(x-y)\n",
    "    \n",
    "    def predict(self, x, k, distance = L2):\n",
    "        '''\n",
    "        预测X的类别,k\n",
    "        '''\n",
    "        xx = []\n",
    "        if type(x[0]) is not list:\n",
    "            xx.append(x)\n",
    "            x = np.array(xx)\n",
    "        else:\n",
    "            x = np.array(x)\n",
    "        ll = x.shape[0]\n",
    "        result = []\n",
    "#         print(x)\n",
    "        for j in range(ll): #遍历所有的单个实例\n",
    "        \n",
    "            d = []\n",
    "            length = self.trainSet.shape[0]\n",
    "\n",
    "            for i in range(length):\n",
    "                d.append(distance(self.trainSet[i], x[j]))\n",
    "\n",
    "            dis = dict()\n",
    "            for i in range(len(self.labels)):\n",
    "                dis[d[i]] = self.labels[i]\n",
    "\n",
    "#             print(d)\n",
    "#             print(dis)\n",
    "\n",
    "            sortedDis = sorted(dis.items(),\n",
    "                                     key=operator.itemgetter(0), reverse=False)\n",
    "#             print(sortedDis)\n",
    "\n",
    "\n",
    "            kd = min(k, len(sortedDis))\n",
    "\n",
    "            label_Dict = {}\n",
    "            for i in range(kd):\n",
    "                if sortedDis[i][1] not in label_Dict.keys():\n",
    "                    label_Dict[sortedDis[i][1]] = 0\n",
    "\n",
    "                label_Dict[sortedDis[i][1]] += 1\n",
    "\n",
    "#             print(\"label_Dict\",label_Dict)    \n",
    "            labelRank = sorted(label_Dict.items(),key=operator.itemgetter(1), reverse=True)\n",
    "#             print(labelRank)\n",
    "        \n",
    "            result.append(labelRank[0][0])\n",
    "\n",
    "        return  result\n",
    "    "
   ]
  },
  {
   "cell_type": "code",
   "execution_count": 175,
   "metadata": {
    "collapsed": true
   },
   "outputs": [],
   "source": [
    "kNN = KNeighbor()"
   ]
  },
  {
   "cell_type": "code",
   "execution_count": 176,
   "metadata": {
    "collapsed": false
   },
   "outputs": [],
   "source": [
    "kNN.fit([[1,1],[1,2],[2,1],[4,4],[4,5],[5,6]],[+1, +1, +1, -1, -1, -1])"
   ]
  },
  {
   "cell_type": "code",
   "execution_count": 179,
   "metadata": {
    "collapsed": false
   },
   "outputs": [
    {
     "data": {
      "text/plain": [
       "[-1, 1]"
      ]
     },
     "execution_count": 179,
     "metadata": {},
     "output_type": "execute_result"
    }
   ],
   "source": [
    "kNN.predict([[2,5],[1,2]],4)"
   ]
  },
  {
   "cell_type": "code",
   "execution_count": null,
   "metadata": {
    "collapsed": true
   },
   "outputs": [],
   "source": []
  }
 ],
 "metadata": {
  "anaconda-cloud": {},
  "kernelspec": {
   "display_name": "Python [conda root]",
   "language": "python",
   "name": "conda-root-py"
  },
  "language_info": {
   "codemirror_mode": {
    "name": "ipython",
    "version": 3
   },
   "file_extension": ".py",
   "mimetype": "text/x-python",
   "name": "python",
   "nbconvert_exporter": "python",
   "pygments_lexer": "ipython3",
   "version": "3.5.2"
  }
 },
 "nbformat": 4,
 "nbformat_minor": 1
}
