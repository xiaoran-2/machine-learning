{
 "cells": [
  {
   "cell_type": "code",
   "execution_count": 4,
   "metadata": {
    "collapsed": false
   },
   "outputs": [],
   "source": [
    "import numpy as np\n",
    "import scipy as sp\n",
    "import matplotlib.pyplot as plt\n"
   ]
  },
  {
   "cell_type": "code",
   "execution_count": 71,
   "metadata": {
    "collapsed": false
   },
   "outputs": [],
   "source": [
    "class Perceptron:\n",
    "    trainSet = np.nan\n",
    "    labels = np.nan\n",
    "    \n",
    "    w = 0\n",
    "    b = 0\n",
    "\n",
    "    \n",
    "    def __init__(self):\n",
    "       pass\n",
    "    \n",
    "    def plot(self):\n",
    "        '''\n",
    "        显示每一次的直线的位置\n",
    "        '''\n",
    "        \n",
    "        for i in range(self.trainSet.shape[0]):\n",
    "            if self.labels[i] == 1:\n",
    "                plt.scatter(self.trainSet[i][0],self.trainSet[i][1],marker = 'o', s=200, c='red')\n",
    "            else:\n",
    "                plt.scatter(self.trainSet[i][0],self.trainSet[i][1],marker = 'x', s=200, c='black')\n",
    "        \n",
    "        x = np.arange(0, 5)\n",
    "        y = -(x * self.w[0] + self.b) / self.w[1]\n",
    "        plt.plot(x,y,c = 'blue')\n",
    "        \n",
    "        plt.show() # 显示训练的过程\n",
    "    \n",
    "    \n",
    "    def plotAll(self):\n",
    "        w = np.zeros(self.trainSet.shape[1])\n",
    "        b = 0\n",
    "        \n",
    "        learnRate = 1\n",
    "        flag = True\n",
    "        length = self.trainSet.shape[0]\n",
    "        \n",
    "        i = 0\n",
    "        while flag:\n",
    "            flag = False\n",
    "            for i in range(length):\n",
    "                t = self.labels[i] * (np.sum(self.trainSet[i] * w) + b)\n",
    "#                 print(t)\n",
    "                if t <= 0: #错误分类的点，修改权重\n",
    "                    w = w + learnRate * self.labels[i] * self.trainSet[i]\n",
    "                    b = b + learnRate * self.labels[i]\n",
    "                    flag = True\n",
    "            print(w,b)\n",
    "            \n",
    "            i += 1\n",
    "        # 修改类的值\n",
    "            self.w = w\n",
    "            self.b = b\n",
    "             # plot\n",
    "            for i in range(self.trainSet.shape[0]):\n",
    "                if self.labels[i] == 1:\n",
    "                    plt.scatter(self.trainSet[i][0],self.trainSet[i][1],marker = 'o', s=200, c='red')\n",
    "                else:\n",
    "                    plt.scatter(self.trainSet[i][0],self.trainSet[i][1],marker = 'x', s=200, c='black')\n",
    "\n",
    "            x = np.arange(0, 5)\n",
    "            y = -(x * self.w[0] + self.b) / self.w[1]\n",
    "            plt.plot(x,y,c = 'blue')\n",
    "            \n",
    "        plt.show()\n",
    "    \n",
    "    \n",
    "    def loadDataSet(self,trainData,labels):\n",
    "        '''\n",
    "        格式化训练数据\n",
    "        '''\n",
    "        return np.array(trainData), np.array(labels)\n",
    "\n",
    "\n",
    "\n",
    "    def fit(self,trainData,label,learnRate=1):\n",
    "        '''\n",
    "        原始训练数据和labels，以及学习率(0 < learnRate <= 1)\n",
    "        '''\n",
    "        self.trainSet = np.array(trainData)\n",
    "        self.labels = np.array(label)\n",
    "        \n",
    "        \n",
    "        w = np.zeros(self.trainSet.shape[1])\n",
    "        b = 0\n",
    "\n",
    "        flag = True\n",
    "        length = self.trainSet.shape[0]\n",
    "\n",
    "        while flag:\n",
    "            flag = False\n",
    "            for i in range(length):\n",
    "                t = self.labels[i] * (np.sum(self.trainSet[i] * w) + b)\n",
    "#                 print(t)\n",
    "                if t <= 0: #错误分类的点，修改权重\n",
    "                    w = w + learnRate * self.labels[i] * self.trainSet[i]\n",
    "                    b = b + learnRate * self.labels[i]\n",
    "                    flag = True\n",
    "#             print(w,b)\n",
    "        # 修改类的值\n",
    "            self.w = w\n",
    "            self.b = b\n",
    "            \n",
    "#             self.plot()\n",
    "        return w, b\n",
    "\n",
    "\n",
    "    def predict(self,testSet):\n",
    "        '''\n",
    "        测试数据\n",
    "        '''\n",
    "        data = []\n",
    "        if type(testSet[0]) is not list:\n",
    "            data.append(testSet)\n",
    "            \n",
    "            testSet = np.array(data)\n",
    "        else:\n",
    "            testSet = np.array(testSet)\n",
    "            \n",
    "#         print(testSet, testSet.shape[0])\n",
    "        result = []\n",
    "        for i in range(testSet.shape[0]):\n",
    "            a = np.sign(np.sum(self.w * testSet[i]) + self.b)\n",
    "#             print(a,np.sum(self.w * testSet[i]) + self.b)\n",
    "            result.append(a)\n",
    "        \n",
    "        return result\n"
   ]
  },
  {
   "cell_type": "code",
   "execution_count": 72,
   "metadata": {
    "collapsed": false
   },
   "outputs": [],
   "source": [
    "perceptron =  Perceptron()\n",
    "# [[1,1],[1,2],[2,1],[4,4],[4,5],[5,6]],[+1, +1, +1, -1, -1, -1]"
   ]
  },
  {
   "cell_type": "code",
   "execution_count": 73,
   "metadata": {
    "collapsed": false
   },
   "outputs": [
    {
     "data": {
      "text/plain": [
       "(array([-3., -1.]), 9)"
      ]
     },
     "execution_count": 73,
     "metadata": {},
     "output_type": "execute_result"
    }
   ],
   "source": [
    "perceptron.fit([[1,1],[1,2],[2,1],[4,4],[4,5],[5,6]],[+1, +1, +1, -1, -1, -1])"
   ]
  },
  {
   "cell_type": "code",
   "execution_count": 74,
   "metadata": {
    "collapsed": true
   },
   "outputs": [],
   "source": [
    "# perceptron.plotAll()"
   ]
  },
  {
   "cell_type": "code",
   "execution_count": 76,
   "metadata": {
    "collapsed": false
   },
   "outputs": [
    {
     "data": {
      "text/plain": [
       "[1.0, 1.0, -1.0]"
      ]
     },
     "execution_count": 76,
     "metadata": {},
     "output_type": "execute_result"
    }
   ],
   "source": [
    "perceptron.predict([[2,2],[1,2],[4,3]])"
   ]
  },
  {
   "cell_type": "code",
   "execution_count": null,
   "metadata": {
    "collapsed": true
   },
   "outputs": [],
   "source": []
  },
  {
   "cell_type": "code",
   "execution_count": null,
   "metadata": {
    "collapsed": true
   },
   "outputs": [],
   "source": []
  }
 ],
 "metadata": {
  "anaconda-cloud": {},
  "kernelspec": {
   "display_name": "Python [conda root]",
   "language": "python",
   "name": "conda-root-py"
  },
  "language_info": {
   "codemirror_mode": {
    "name": "ipython",
    "version": 3
   },
   "file_extension": ".py",
   "mimetype": "text/x-python",
   "name": "python",
   "nbconvert_exporter": "python",
   "pygments_lexer": "ipython3",
   "version": "3.5.2"
  }
 },
 "nbformat": 4,
 "nbformat_minor": 1
}
